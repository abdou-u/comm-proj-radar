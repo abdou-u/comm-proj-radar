{
 "cells": [
  {
   "cell_type": "markdown",
   "metadata": {},
   "source": [
    "# Visualizing the data captured\n",
    "This script will allow you to visualise the data you captured (or were given). At the end you will have a 1D plot (in other words the Range FFT) giving you the change in frequencies in the x axis and the power at which those frequencies are on the y axis. The change (or delta) in frequencies will enable you to estimate the range at which the object was from the radar, whereas the power allows you to understand the strength of the reflector. The strength can be impacted by many things such as the material (something like metal will reflect much more of the signal than something like plastic), the size, and shape of the reflector!\n"
   ]
  },
  {
   "cell_type": "code",
   "execution_count": 2,
   "metadata": {},
   "outputs": [
    {
     "name": "stdout",
     "output_type": "stream",
     "text": [
      "C:\\Users\\ubci\\OneDrive\\Bureau\\COM304\\comm-proj-radar\\processing\\record\\raw_1\n",
      "C:\\Users\\ubci\\OneDrive\\Bureau\\COM304\\comm-proj-radar\\processing\\record\\rdc_1\n",
      "Input ADC data parameters:\n",
      "    dataFmt: 1\n",
      "    iqSwap: 0\n",
      "    chanInterleave: 1\n",
      "    numChirpsPerFrame: 3\n",
      "    adcBits: 2\n",
      "    numRxChan: 4\n",
      "    numAdcSamples: 512\n",
      "Radarcube parameters:\n",
      "    iqSwap: 0\n",
      "    radarCubeFmt: 1\n",
      "    numDopplerChirps: 1\n",
      "    numRxChan: 4\n",
      "    numTxChan: 3\n",
      "    numRangeBins: 512.0\n"
     ]
    }
   ],
   "source": [
    "\n",
    "import numpy as np\n",
    "import matplotlib.pyplot as plt\n",
    "import os\n",
    "import scipy\n",
    "import scipy.io as sio\n",
    "import processing.save_adc_data as sd\n"
   ]
  },
  {
   "cell_type": "markdown",
   "metadata": {
    "tags": []
   },
   "source": [
    "## Finding your way to the data\n",
    "This part allow you to specify where all the **data** is located in your file system, relative to where this file (visualize_data.ipynb) is saved.\n",
    "* *filename* must correspond to the name of the **experiment** you made (it is the same as the one you had to setup in the config file)\n",
    "* *capture_data_dir* must correspond to the folder were you stored the **raw data** captured by the radar (aka the *.bin file)\n",
    "* *json_filename* correspond to the the json file that we provide for you, it describes the paramters that you captured the data, such as number of frames, number of transmitters, number of receivers, number of ADC samples, etc. \n",
    "* *config_lua_script* is the configuration lua script (same as capture_data.ipynb)\n",
    "\n",
    "**IMPORTANT NOTE** \n",
    "If you decide to change something about the chirp parameters (primarily number of Tx, number of Rx, or ADC samples) then you must do some extra edits below to reformat the data accordingly. Otherwise leave the defaults.\n",
    "\n",
    "\n"
   ]
  },
  {
   "cell_type": "code",
   "execution_count": 29,
   "metadata": {},
   "outputs": [],
   "source": [
    "\n",
    "\n",
    "# the *name* of your .bin file here (excluding the .bin)\n",
    "filename = r\"1\"\n",
    "# the *path* to the project folder\n",
    "home_dir = r\"C:\\Users\\ubci\\OneDrive\\Bureau\\COM304\\comm-proj-radar\"\n",
    "# the path (relative to home_dir) of the captured data folder\n",
    "capture_data_dir = r\"processing\\record\"\n",
    "#capture_data_dir = r\"data\"\n",
    "# the path (relative to home_dir) and name of the JSON files (exlude the .setup.json and .mmwave.json)\n",
    "json_filename = r\"exported\"\n",
    "# the relative path to the lua scripts for configuration assuming it in is the home dir(ex. scripts/1843_config.lua)\n",
    "config_lua_script = r'scripts\\1843_config.lua' \n",
    "\n",
    "# this function reads the parameters from your lua config file (look at this function to see how it expects your config file to be formatted)\n",
    "# module 'processing.save_adc_data' has no attribute 'read_lua' !\n",
    "#num_tx, num_rx, adc_samples, chirp_loops = sd.read_lua(os.path.join(home_dir,config_lua_script))\n",
    "\n",
    "######### only edit here if you want to change the chirp paramters!!!! #############\n",
    "#You can find the chirp parameters either in mmWave or in the JSON files :)\n",
    "num_tx = 3\n",
    "num_rx = 4\n",
    "adc_samples = 512\n",
    "chirp_loops = 1\n",
    "tx_en = '0x7' # HEX enable (1 for on, 0 for off)\n",
    "rx_en = '0xF' # HEX enable (1 for on, 0 for off)\n",
    "\n",
    "args = [num_tx, num_rx, adc_samples, chirp_loops, tx_en, rx_en]"
   ]
  },
  {
   "cell_type": "markdown",
   "metadata": {},
   "source": [
    "This cells calls to another script that you have called save_adc_data, located in the **processing** folder. What this script does it reformating the data, which is a binary file, to a more understandable format which it a .mat {}"
   ]
  },
  {
   "cell_type": "code",
   "execution_count": 30,
   "metadata": {},
   "outputs": [
    {
     "name": "stdout",
     "output_type": "stream",
     "text": [
      "C:\\Users\\ubci\\OneDrive\\Bureau\\COM304\\comm-proj-radar\\processing\\record\\raw_1\n",
      "C:\\Users\\ubci\\OneDrive\\Bureau\\COM304\\comm-proj-radar\\processing\\record\\rdc_1\n",
      "Input ADC data parameters:\n",
      "    dataFmt: 1\n",
      "    iqSwap: 0\n",
      "    chanInterleave: 1\n",
      "    numChirpsPerFrame: 3\n",
      "    adcBits: 2\n",
      "    numRxChan: 4\n",
      "    numAdcSamples: 512\n",
      "Radarcube parameters:\n",
      "    iqSwap: 0\n",
      "    radarCubeFmt: 1\n",
      "    numDopplerChirps: 1\n",
      "    numRxChan: 4\n",
      "    numTxChan: 3\n",
      "    numRangeBins: 512.0\n"
     ]
    }
   ],
   "source": [
    "############################# Reformat the Data #############################\n",
    "if not os.path.exists(os.path.join(home_dir,\"rdc_\" + filename + '.mat')):\n",
    "    sd.save_adc_data(filename, home_dir, capture_data_dir, json_filename, args)"
   ]
  },
  {
   "cell_type": "code",
   "execution_count": 31,
   "metadata": {},
   "outputs": [
    {
     "name": "stdout",
     "output_type": "stream",
     "text": [
      "You captured 20 frames, for 3 TX, 4 Rx, and 512 adc samples\n"
     ]
    }
   ],
   "source": [
    "################################# load data #################################\n",
    "bin_data = sio.loadmat(os.path.join(home_dir,capture_data_dir,\"rdc_\" + filename + '.mat'))\n",
    "raw_data = np.array(bin_data['data_raw'])\n",
    "\n",
    "print(\"You captured %d frames, for %d TX, %d Rx, and %d adc samples\" % raw_data.shape)"
   ]
  },
  {
   "cell_type": "code",
   "execution_count": 32,
   "metadata": {},
   "outputs": [
    {
     "data": {
      "text/plain": [
       "[<matplotlib.lines.Line2D at 0x2132187f790>]"
      ]
     },
     "execution_count": 32,
     "metadata": {},
     "output_type": "execute_result"
    },
    {
     "data": {
      "image/png": "[encoded data removed]",
      "text/plain": [
       "<Figure size 640x480 with 1 Axes>"
      ]
     },
     "metadata": {},
     "output_type": "display_data"
    }
   ],
   "source": [
    "############################### process data! ################################\n",
    "# Range FFT\n",
    "rfft = scipy.fft.fft(raw_data, axis=3)\n",
    "\n",
    "# Plot the Range FFT\n",
    "plt.plot(abs(np.squeeze(np.sum(rfft,axis=(0,2,1)))))\n"
   ]
  },
  {
   "cell_type": "code",
   "execution_count": null,
   "metadata": {},
   "outputs": [],
   "source": [
    "###################### 2D Array ###########################"
   ]
  }
 ],
 "metadata": {
  "kernelspec": {
   "display_name": "Python 3 (ipykernel)",
   "language": "python",
   "name": "python3"
  },
  "language_info": {
   "codemirror_mode": {
    "name": "ipython",
    "version": 3
   },
   "file_extension": ".py",
   "mimetype": "text/x-python",
   "name": "python",
   "nbconvert_exporter": "python",
   "pygments_lexer": "ipython3",
   "version": "3.11.5"
  }
 },
 "nbformat": 4,
 "nbformat_minor": 4
}
